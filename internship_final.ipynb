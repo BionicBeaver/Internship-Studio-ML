{
  "nbformat": 4,
  "nbformat_minor": 0,
  "metadata": {
    "kernelspec": {
      "language": "python",
      "display_name": "Python 3",
      "name": "python3"
    },
    "language_info": {
      "pygments_lexer": "ipython3",
      "nbconvert_exporter": "python",
      "version": "3.6.4",
      "file_extension": ".py",
      "codemirror_mode": {
        "name": "ipython",
        "version": 3
      },
      "name": "python",
      "mimetype": "text/x-python"
    },
    "colab": {
      "name": "internship final.ipynb",
      "provenance": [],
      "collapsed_sections": []
    }
  },
  "cells": [
    {
      "cell_type": "markdown",
      "metadata": {
        "id": "U0XYuS_c0SaJ",
        "colab_type": "text"
      },
      "source": [
        "# **1. Importing the dataset and the necessary libraries, checking datatype, statistical summary, shape, null values etc.**"
      ]
    },
    {
      "cell_type": "code",
      "metadata": {
        "_uuid": "8f2839f25d086af736a60e9eeb907d3b93b6e0e5",
        "_cell_guid": "b1076dfc-b9ad-4769-8c92-a6c4dae69d19",
        "trusted": true,
        "_kg_hide-input": true,
        "id": "D0r8S-Ypfhqr",
        "colab_type": "code",
        "colab": {
          "base_uri": "https://localhost:8080/",
          "height": 73
        },
        "outputId": "2838f389-444b-41f2-a1bb-2f70d17a6b45"
      },
      "source": [
        "import numpy as np \n",
        "import pandas as pd\n",
        "from scipy import stats\n",
        "import matplotlib.pyplot as plt\n",
        "import seaborn as sns\n",
        "from sklearn.preprocessing import LabelEncoder\n",
        "from sklearn.linear_model import LinearRegression\n",
        "import statsmodels.api as sm\n",
        "from scipy import stats\n",
        "%matplotlib inline\n",
        "import os"
      ],
      "execution_count": 1,
      "outputs": [
        {
          "output_type": "stream",
          "text": [
            "/usr/local/lib/python3.6/dist-packages/statsmodels/tools/_testing.py:19: FutureWarning: pandas.util.testing is deprecated. Use the functions in the public API at pandas.testing instead.\n",
            "  import pandas.util.testing as tm\n"
          ],
          "name": "stderr"
        },
        {
          "output_type": "display_data",
          "data": {
            "text/html": [
              "        <script type=\"text/javascript\">\n",
              "        window.PlotlyConfig = {MathJaxConfig: 'local'};\n",
              "        if (window.MathJax) {MathJax.Hub.Config({SVG: {font: \"STIX-Web\"}});}\n",
              "        if (typeof require !== 'undefined') {\n",
              "        require.undef(\"plotly\");\n",
              "        requirejs.config({\n",
              "            paths: {\n",
              "                'plotly': ['https://cdn.plot.ly/plotly-latest.min']\n",
              "            }\n",
              "        });\n",
              "        require(['plotly'], function(Plotly) {\n",
              "            window._Plotly = Plotly;\n",
              "        });\n",
              "        }\n",
              "        </script>\n",
              "        "
            ]
          },
          "metadata": {
            "tags": []
          }
        }
      ]
    },
    {
      "cell_type": "code",
      "metadata": {
        "_uuid": "d629ff2d2480ee46fbb7e2d37f6b5fab8052498a",
        "_cell_guid": "79c7e3d0-c299-4dcb-8224-4455121ee9b0",
        "trusted": true,
        "_kg_hide-output": true,
        "id": "SR1HA0Xpfhqu",
        "colab_type": "code",
        "colab": {}
      },
      "source": [
        "car=pd.read_csv('data.csv')"
      ],
      "execution_count": 2,
      "outputs": []
    },
    {
      "cell_type": "code",
      "metadata": {
        "trusted": true,
        "id": "4uadpdEdfhqw",
        "colab_type": "code",
        "colab": {
          "base_uri": "https://localhost:8080/",
          "height": 405
        },
        "outputId": "be66e192-8547-44df-db2f-e6ba293c0bb2"
      },
      "source": [
        "car.head()"
      ],
      "execution_count": 3,
      "outputs": [
        {
          "output_type": "execute_result",
          "data": {
            "text/html": [
              "<div>\n",
              "<style scoped>\n",
              "    .dataframe tbody tr th:only-of-type {\n",
              "        vertical-align: middle;\n",
              "    }\n",
              "\n",
              "    .dataframe tbody tr th {\n",
              "        vertical-align: top;\n",
              "    }\n",
              "\n",
              "    .dataframe thead th {\n",
              "        text-align: right;\n",
              "    }\n",
              "</style>\n",
              "<table border=\"1\" class=\"dataframe\">\n",
              "  <thead>\n",
              "    <tr style=\"text-align: right;\">\n",
              "      <th></th>\n",
              "      <th>Make</th>\n",
              "      <th>Model</th>\n",
              "      <th>Year</th>\n",
              "      <th>Engine Fuel Type</th>\n",
              "      <th>Engine HP</th>\n",
              "      <th>Engine Cylinders</th>\n",
              "      <th>Transmission Type</th>\n",
              "      <th>Driven_Wheels</th>\n",
              "      <th>Number of Doors</th>\n",
              "      <th>Market Category</th>\n",
              "      <th>Vehicle Size</th>\n",
              "      <th>Vehicle Style</th>\n",
              "      <th>highway MPG</th>\n",
              "      <th>city mpg</th>\n",
              "      <th>Popularity</th>\n",
              "      <th>MSRP</th>\n",
              "    </tr>\n",
              "  </thead>\n",
              "  <tbody>\n",
              "    <tr>\n",
              "      <th>0</th>\n",
              "      <td>BMW</td>\n",
              "      <td>1 Series M</td>\n",
              "      <td>2011</td>\n",
              "      <td>premium unleaded (required)</td>\n",
              "      <td>335.0</td>\n",
              "      <td>6.0</td>\n",
              "      <td>MANUAL</td>\n",
              "      <td>rear wheel drive</td>\n",
              "      <td>2.0</td>\n",
              "      <td>Factory Tuner,Luxury,High-Performance</td>\n",
              "      <td>Compact</td>\n",
              "      <td>Coupe</td>\n",
              "      <td>26</td>\n",
              "      <td>19</td>\n",
              "      <td>3916</td>\n",
              "      <td>46135</td>\n",
              "    </tr>\n",
              "    <tr>\n",
              "      <th>1</th>\n",
              "      <td>BMW</td>\n",
              "      <td>1 Series</td>\n",
              "      <td>2011</td>\n",
              "      <td>premium unleaded (required)</td>\n",
              "      <td>300.0</td>\n",
              "      <td>6.0</td>\n",
              "      <td>MANUAL</td>\n",
              "      <td>rear wheel drive</td>\n",
              "      <td>2.0</td>\n",
              "      <td>Luxury,Performance</td>\n",
              "      <td>Compact</td>\n",
              "      <td>Convertible</td>\n",
              "      <td>28</td>\n",
              "      <td>19</td>\n",
              "      <td>3916</td>\n",
              "      <td>40650</td>\n",
              "    </tr>\n",
              "    <tr>\n",
              "      <th>2</th>\n",
              "      <td>BMW</td>\n",
              "      <td>1 Series</td>\n",
              "      <td>2011</td>\n",
              "      <td>premium unleaded (required)</td>\n",
              "      <td>300.0</td>\n",
              "      <td>6.0</td>\n",
              "      <td>MANUAL</td>\n",
              "      <td>rear wheel drive</td>\n",
              "      <td>2.0</td>\n",
              "      <td>Luxury,High-Performance</td>\n",
              "      <td>Compact</td>\n",
              "      <td>Coupe</td>\n",
              "      <td>28</td>\n",
              "      <td>20</td>\n",
              "      <td>3916</td>\n",
              "      <td>36350</td>\n",
              "    </tr>\n",
              "    <tr>\n",
              "      <th>3</th>\n",
              "      <td>BMW</td>\n",
              "      <td>1 Series</td>\n",
              "      <td>2011</td>\n",
              "      <td>premium unleaded (required)</td>\n",
              "      <td>230.0</td>\n",
              "      <td>6.0</td>\n",
              "      <td>MANUAL</td>\n",
              "      <td>rear wheel drive</td>\n",
              "      <td>2.0</td>\n",
              "      <td>Luxury,Performance</td>\n",
              "      <td>Compact</td>\n",
              "      <td>Coupe</td>\n",
              "      <td>28</td>\n",
              "      <td>18</td>\n",
              "      <td>3916</td>\n",
              "      <td>29450</td>\n",
              "    </tr>\n",
              "    <tr>\n",
              "      <th>4</th>\n",
              "      <td>BMW</td>\n",
              "      <td>1 Series</td>\n",
              "      <td>2011</td>\n",
              "      <td>premium unleaded (required)</td>\n",
              "      <td>230.0</td>\n",
              "      <td>6.0</td>\n",
              "      <td>MANUAL</td>\n",
              "      <td>rear wheel drive</td>\n",
              "      <td>2.0</td>\n",
              "      <td>Luxury</td>\n",
              "      <td>Compact</td>\n",
              "      <td>Convertible</td>\n",
              "      <td>28</td>\n",
              "      <td>18</td>\n",
              "      <td>3916</td>\n",
              "      <td>34500</td>\n",
              "    </tr>\n",
              "  </tbody>\n",
              "</table>\n",
              "</div>"
            ],
            "text/plain": [
              "  Make       Model  Year  ... city mpg  Popularity   MSRP\n",
              "0  BMW  1 Series M  2011  ...       19        3916  46135\n",
              "1  BMW    1 Series  2011  ...       19        3916  40650\n",
              "2  BMW    1 Series  2011  ...       20        3916  36350\n",
              "3  BMW    1 Series  2011  ...       18        3916  29450\n",
              "4  BMW    1 Series  2011  ...       18        3916  34500\n",
              "\n",
              "[5 rows x 16 columns]"
            ]
          },
          "metadata": {
            "tags": []
          },
          "execution_count": 3
        }
      ]
    },
    {
      "cell_type": "code",
      "metadata": {
        "id": "go2Xqs9BsuM1",
        "colab_type": "code",
        "colab": {
          "base_uri": "https://localhost:8080/",
          "height": 322
        },
        "outputId": "003cf495-fc5d-4f97-fb74-49ce5eaca7f1"
      },
      "source": [
        "car.dtypes"
      ],
      "execution_count": 4,
      "outputs": [
        {
          "output_type": "execute_result",
          "data": {
            "text/plain": [
              "Make                  object\n",
              "Model                 object\n",
              "Year                   int64\n",
              "Engine Fuel Type      object\n",
              "Engine HP            float64\n",
              "Engine Cylinders     float64\n",
              "Transmission Type     object\n",
              "Driven_Wheels         object\n",
              "Number of Doors      float64\n",
              "Market Category       object\n",
              "Vehicle Size          object\n",
              "Vehicle Style         object\n",
              "highway MPG            int64\n",
              "city mpg               int64\n",
              "Popularity             int64\n",
              "MSRP                   int64\n",
              "dtype: object"
            ]
          },
          "metadata": {
            "tags": []
          },
          "execution_count": 4
        }
      ]
    },
    {
      "cell_type": "code",
      "metadata": {
        "id": "f4npMam4subF",
        "colab_type": "code",
        "colab": {
          "base_uri": "https://localhost:8080/",
          "height": 35
        },
        "outputId": "8bf59e51-fee2-45e7-f0c1-6e5a43957257"
      },
      "source": [
        "car.shape"
      ],
      "execution_count": 5,
      "outputs": [
        {
          "output_type": "execute_result",
          "data": {
            "text/plain": [
              "(11914, 16)"
            ]
          },
          "metadata": {
            "tags": []
          },
          "execution_count": 5
        }
      ]
    },
    {
      "cell_type": "code",
      "metadata": {
        "id": "nh3lzbiEsuZB",
        "colab_type": "code",
        "colab": {
          "base_uri": "https://localhost:8080/",
          "height": 289
        },
        "outputId": "3bbe5b16-294d-4d07-da2b-c2966fda1b8d"
      },
      "source": [
        "car.describe()"
      ],
      "execution_count": 6,
      "outputs": [
        {
          "output_type": "execute_result",
          "data": {
            "text/html": [
              "<div>\n",
              "<style scoped>\n",
              "    .dataframe tbody tr th:only-of-type {\n",
              "        vertical-align: middle;\n",
              "    }\n",
              "\n",
              "    .dataframe tbody tr th {\n",
              "        vertical-align: top;\n",
              "    }\n",
              "\n",
              "    .dataframe thead th {\n",
              "        text-align: right;\n",
              "    }\n",
              "</style>\n",
              "<table border=\"1\" class=\"dataframe\">\n",
              "  <thead>\n",
              "    <tr style=\"text-align: right;\">\n",
              "      <th></th>\n",
              "      <th>Year</th>\n",
              "      <th>Engine HP</th>\n",
              "      <th>Engine Cylinders</th>\n",
              "      <th>Number of Doors</th>\n",
              "      <th>highway MPG</th>\n",
              "      <th>city mpg</th>\n",
              "      <th>Popularity</th>\n",
              "      <th>MSRP</th>\n",
              "    </tr>\n",
              "  </thead>\n",
              "  <tbody>\n",
              "    <tr>\n",
              "      <th>count</th>\n",
              "      <td>11914.000000</td>\n",
              "      <td>11845.00000</td>\n",
              "      <td>11884.000000</td>\n",
              "      <td>11908.000000</td>\n",
              "      <td>11914.000000</td>\n",
              "      <td>11914.000000</td>\n",
              "      <td>11914.000000</td>\n",
              "      <td>1.191400e+04</td>\n",
              "    </tr>\n",
              "    <tr>\n",
              "      <th>mean</th>\n",
              "      <td>2010.384338</td>\n",
              "      <td>249.38607</td>\n",
              "      <td>5.628829</td>\n",
              "      <td>3.436093</td>\n",
              "      <td>26.637485</td>\n",
              "      <td>19.733255</td>\n",
              "      <td>1554.911197</td>\n",
              "      <td>4.059474e+04</td>\n",
              "    </tr>\n",
              "    <tr>\n",
              "      <th>std</th>\n",
              "      <td>7.579740</td>\n",
              "      <td>109.19187</td>\n",
              "      <td>1.780559</td>\n",
              "      <td>0.881315</td>\n",
              "      <td>8.863001</td>\n",
              "      <td>8.987798</td>\n",
              "      <td>1441.855347</td>\n",
              "      <td>6.010910e+04</td>\n",
              "    </tr>\n",
              "    <tr>\n",
              "      <th>min</th>\n",
              "      <td>1990.000000</td>\n",
              "      <td>55.00000</td>\n",
              "      <td>0.000000</td>\n",
              "      <td>2.000000</td>\n",
              "      <td>12.000000</td>\n",
              "      <td>7.000000</td>\n",
              "      <td>2.000000</td>\n",
              "      <td>2.000000e+03</td>\n",
              "    </tr>\n",
              "    <tr>\n",
              "      <th>25%</th>\n",
              "      <td>2007.000000</td>\n",
              "      <td>170.00000</td>\n",
              "      <td>4.000000</td>\n",
              "      <td>2.000000</td>\n",
              "      <td>22.000000</td>\n",
              "      <td>16.000000</td>\n",
              "      <td>549.000000</td>\n",
              "      <td>2.100000e+04</td>\n",
              "    </tr>\n",
              "    <tr>\n",
              "      <th>50%</th>\n",
              "      <td>2015.000000</td>\n",
              "      <td>227.00000</td>\n",
              "      <td>6.000000</td>\n",
              "      <td>4.000000</td>\n",
              "      <td>26.000000</td>\n",
              "      <td>18.000000</td>\n",
              "      <td>1385.000000</td>\n",
              "      <td>2.999500e+04</td>\n",
              "    </tr>\n",
              "    <tr>\n",
              "      <th>75%</th>\n",
              "      <td>2016.000000</td>\n",
              "      <td>300.00000</td>\n",
              "      <td>6.000000</td>\n",
              "      <td>4.000000</td>\n",
              "      <td>30.000000</td>\n",
              "      <td>22.000000</td>\n",
              "      <td>2009.000000</td>\n",
              "      <td>4.223125e+04</td>\n",
              "    </tr>\n",
              "    <tr>\n",
              "      <th>max</th>\n",
              "      <td>2017.000000</td>\n",
              "      <td>1001.00000</td>\n",
              "      <td>16.000000</td>\n",
              "      <td>4.000000</td>\n",
              "      <td>354.000000</td>\n",
              "      <td>137.000000</td>\n",
              "      <td>5657.000000</td>\n",
              "      <td>2.065902e+06</td>\n",
              "    </tr>\n",
              "  </tbody>\n",
              "</table>\n",
              "</div>"
            ],
            "text/plain": [
              "               Year    Engine HP  ...    Popularity          MSRP\n",
              "count  11914.000000  11845.00000  ...  11914.000000  1.191400e+04\n",
              "mean    2010.384338    249.38607  ...   1554.911197  4.059474e+04\n",
              "std        7.579740    109.19187  ...   1441.855347  6.010910e+04\n",
              "min     1990.000000     55.00000  ...      2.000000  2.000000e+03\n",
              "25%     2007.000000    170.00000  ...    549.000000  2.100000e+04\n",
              "50%     2015.000000    227.00000  ...   1385.000000  2.999500e+04\n",
              "75%     2016.000000    300.00000  ...   2009.000000  4.223125e+04\n",
              "max     2017.000000   1001.00000  ...   5657.000000  2.065902e+06\n",
              "\n",
              "[8 rows x 8 columns]"
            ]
          },
          "metadata": {
            "tags": []
          },
          "execution_count": 6
        }
      ]
    },
    {
      "cell_type": "code",
      "metadata": {
        "id": "0Oo0I8vZsuXe",
        "colab_type": "code",
        "colab": {
          "base_uri": "https://localhost:8080/",
          "height": 322
        },
        "outputId": "5fb8b618-e6cb-4265-a54a-3b730dc86ee5"
      },
      "source": [
        "car.isna().sum()"
      ],
      "execution_count": 7,
      "outputs": [
        {
          "output_type": "execute_result",
          "data": {
            "text/plain": [
              "Make                    0\n",
              "Model                   0\n",
              "Year                    0\n",
              "Engine Fuel Type        3\n",
              "Engine HP              69\n",
              "Engine Cylinders       30\n",
              "Transmission Type       0\n",
              "Driven_Wheels           0\n",
              "Number of Doors         6\n",
              "Market Category      3742\n",
              "Vehicle Size            0\n",
              "Vehicle Style           0\n",
              "highway MPG             0\n",
              "city mpg                0\n",
              "Popularity              0\n",
              "MSRP                    0\n",
              "dtype: int64"
            ]
          },
          "metadata": {
            "tags": []
          },
          "execution_count": 7
        }
      ]
    },
    {
      "cell_type": "markdown",
      "metadata": {
        "id": "UtcENJgNSu-M",
        "colab_type": "text"
      },
      "source": [
        "# **2 . I am dropping the Market Category column because it has very high number (3742) of null values and removing the null values would result in reduction of data significantly**\n",
        "\n",
        "\n"
      ]
    },
    {
      "cell_type": "code",
      "metadata": {
        "id": "ZLhuyjrIVckf",
        "colab_type": "code",
        "colab": {}
      },
      "source": [
        "car.drop(['Market Category'], axis=1, inplace=True)"
      ],
      "execution_count": 8,
      "outputs": []
    },
    {
      "cell_type": "markdown",
      "metadata": {
        "id": "pWKm9b5BTGkK",
        "colab_type": "text"
      },
      "source": [
        "\n",
        "\n",
        "# 3 . Renaming the Columns "
      ]
    },
    {
      "cell_type": "code",
      "metadata": {
        "id": "y9kJVcUS6eKz",
        "colab_type": "code",
        "colab": {}
      },
      "source": [
        "car.rename(columns={ \"Engine HP\": \"HP\", \"Engine Cylinders\": \"Cylinders\", \"Transmission Type\": \"Transmission\", \"Driven_Wheels\": \"Drive Mode\",\"highway MPG\": \"MPG-H\", \"city mpg\": \"MPG-C\", \"MSRP\": \"Price\" }, inplace=True)"
      ],
      "execution_count": 9,
      "outputs": []
    },
    {
      "cell_type": "code",
      "metadata": {
        "id": "aA-x519U6fD3",
        "colab_type": "code",
        "colab": {
          "base_uri": "https://localhost:8080/",
          "height": 301
        },
        "outputId": "4137a829-2a99-4dc7-aa61-26458d318438"
      },
      "source": [
        "car.head()"
      ],
      "execution_count": 10,
      "outputs": [
        {
          "output_type": "execute_result",
          "data": {
            "text/html": [
              "<div>\n",
              "<style scoped>\n",
              "    .dataframe tbody tr th:only-of-type {\n",
              "        vertical-align: middle;\n",
              "    }\n",
              "\n",
              "    .dataframe tbody tr th {\n",
              "        vertical-align: top;\n",
              "    }\n",
              "\n",
              "    .dataframe thead th {\n",
              "        text-align: right;\n",
              "    }\n",
              "</style>\n",
              "<table border=\"1\" class=\"dataframe\">\n",
              "  <thead>\n",
              "    <tr style=\"text-align: right;\">\n",
              "      <th></th>\n",
              "      <th>Make</th>\n",
              "      <th>Model</th>\n",
              "      <th>Year</th>\n",
              "      <th>Engine Fuel Type</th>\n",
              "      <th>HP</th>\n",
              "      <th>Cylinders</th>\n",
              "      <th>Transmission</th>\n",
              "      <th>Drive Mode</th>\n",
              "      <th>Number of Doors</th>\n",
              "      <th>Vehicle Size</th>\n",
              "      <th>Vehicle Style</th>\n",
              "      <th>MPG-H</th>\n",
              "      <th>MPG-C</th>\n",
              "      <th>Popularity</th>\n",
              "      <th>Price</th>\n",
              "    </tr>\n",
              "  </thead>\n",
              "  <tbody>\n",
              "    <tr>\n",
              "      <th>0</th>\n",
              "      <td>BMW</td>\n",
              "      <td>1 Series M</td>\n",
              "      <td>2011</td>\n",
              "      <td>premium unleaded (required)</td>\n",
              "      <td>335.0</td>\n",
              "      <td>6.0</td>\n",
              "      <td>MANUAL</td>\n",
              "      <td>rear wheel drive</td>\n",
              "      <td>2.0</td>\n",
              "      <td>Compact</td>\n",
              "      <td>Coupe</td>\n",
              "      <td>26</td>\n",
              "      <td>19</td>\n",
              "      <td>3916</td>\n",
              "      <td>46135</td>\n",
              "    </tr>\n",
              "    <tr>\n",
              "      <th>1</th>\n",
              "      <td>BMW</td>\n",
              "      <td>1 Series</td>\n",
              "      <td>2011</td>\n",
              "      <td>premium unleaded (required)</td>\n",
              "      <td>300.0</td>\n",
              "      <td>6.0</td>\n",
              "      <td>MANUAL</td>\n",
              "      <td>rear wheel drive</td>\n",
              "      <td>2.0</td>\n",
              "      <td>Compact</td>\n",
              "      <td>Convertible</td>\n",
              "      <td>28</td>\n",
              "      <td>19</td>\n",
              "      <td>3916</td>\n",
              "      <td>40650</td>\n",
              "    </tr>\n",
              "    <tr>\n",
              "      <th>2</th>\n",
              "      <td>BMW</td>\n",
              "      <td>1 Series</td>\n",
              "      <td>2011</td>\n",
              "      <td>premium unleaded (required)</td>\n",
              "      <td>300.0</td>\n",
              "      <td>6.0</td>\n",
              "      <td>MANUAL</td>\n",
              "      <td>rear wheel drive</td>\n",
              "      <td>2.0</td>\n",
              "      <td>Compact</td>\n",
              "      <td>Coupe</td>\n",
              "      <td>28</td>\n",
              "      <td>20</td>\n",
              "      <td>3916</td>\n",
              "      <td>36350</td>\n",
              "    </tr>\n",
              "    <tr>\n",
              "      <th>3</th>\n",
              "      <td>BMW</td>\n",
              "      <td>1 Series</td>\n",
              "      <td>2011</td>\n",
              "      <td>premium unleaded (required)</td>\n",
              "      <td>230.0</td>\n",
              "      <td>6.0</td>\n",
              "      <td>MANUAL</td>\n",
              "      <td>rear wheel drive</td>\n",
              "      <td>2.0</td>\n",
              "      <td>Compact</td>\n",
              "      <td>Coupe</td>\n",
              "      <td>28</td>\n",
              "      <td>18</td>\n",
              "      <td>3916</td>\n",
              "      <td>29450</td>\n",
              "    </tr>\n",
              "    <tr>\n",
              "      <th>4</th>\n",
              "      <td>BMW</td>\n",
              "      <td>1 Series</td>\n",
              "      <td>2011</td>\n",
              "      <td>premium unleaded (required)</td>\n",
              "      <td>230.0</td>\n",
              "      <td>6.0</td>\n",
              "      <td>MANUAL</td>\n",
              "      <td>rear wheel drive</td>\n",
              "      <td>2.0</td>\n",
              "      <td>Compact</td>\n",
              "      <td>Convertible</td>\n",
              "      <td>28</td>\n",
              "      <td>18</td>\n",
              "      <td>3916</td>\n",
              "      <td>34500</td>\n",
              "    </tr>\n",
              "  </tbody>\n",
              "</table>\n",
              "</div>"
            ],
            "text/plain": [
              "  Make       Model  Year  ... MPG-C  Popularity  Price\n",
              "0  BMW  1 Series M  2011  ...    19        3916  46135\n",
              "1  BMW    1 Series  2011  ...    19        3916  40650\n",
              "2  BMW    1 Series  2011  ...    20        3916  36350\n",
              "3  BMW    1 Series  2011  ...    18        3916  29450\n",
              "4  BMW    1 Series  2011  ...    18        3916  34500\n",
              "\n",
              "[5 rows x 15 columns]"
            ]
          },
          "metadata": {
            "tags": []
          },
          "execution_count": 10
        }
      ]
    },
    {
      "cell_type": "markdown",
      "metadata": {
        "id": "A9dOFhGkUezb",
        "colab_type": "text"
      },
      "source": [
        "# **4. Removing missing data and null values in the dataset**"
      ]
    },
    {
      "cell_type": "code",
      "metadata": {
        "id": "dgknqrhq_Fa2",
        "colab_type": "code",
        "colab": {}
      },
      "source": [
        "car.dropna(axis=0, how=\"any\", thresh=None, subset=None, inplace=True)"
      ],
      "execution_count": 11,
      "outputs": []
    },
    {
      "cell_type": "markdown",
      "metadata": {
        "id": "TnzkbYbl5SxY",
        "colab_type": "text"
      },
      "source": [
        "Using Integer Encoder to encode string data types into numbers"
      ]
    },
    {
      "cell_type": "code",
      "metadata": {
        "id": "86F3bH0LJz5R",
        "colab_type": "code",
        "colab": {}
      },
      "source": [
        "lb_make = LabelEncoder()\n",
        "car[\"Make\"] = lb_make.fit_transform(car[\"Make\"])\n",
        "car[\"Model\"] = lb_make.fit_transform(car[\"Model\"])\n",
        "car[\"Engine Fuel Type\"] = lb_make.fit_transform(car[\"Engine Fuel Type\"])\n",
        "car[\"Transmission\"] = lb_make.fit_transform(car[\"Transmission\"])\n",
        "car[\"Drive Mode\"] = lb_make.fit_transform(car[\"Drive Mode\"])\n",
        "car[\"Vehicle Size\"] = lb_make.fit_transform(car[\"Vehicle Size\"])\n",
        "car[\"Vehicle Style\"] = lb_make.fit_transform(car[\"Vehicle Style\"])"
      ],
      "execution_count": 12,
      "outputs": []
    },
    {
      "cell_type": "markdown",
      "metadata": {
        "id": "orzc0yEeUm-a",
        "colab_type": "text"
      },
      "source": [
        "# **5. Plotting graphs of various columns to check for outliers**"
      ]
    },
    {
      "cell_type": "code",
      "metadata": {
        "id": "oBbd_n7kIJty",
        "colab_type": "code",
        "colab": {}
      },
      "source": [
        "y = car['Price']"
      ],
      "execution_count": 13,
      "outputs": []
    },
    {
      "cell_type": "code",
      "metadata": {
        "id": "VsejGvqgIJz6",
        "colab_type": "code",
        "colab": {
          "base_uri": "https://localhost:8080/",
          "height": 276
        },
        "outputId": "88c53261-660a-43c7-8946-6dcccda156b6"
      },
      "source": [
        "x = car['Make']\n",
        "\n",
        "plt.scatter(x, y)\n",
        "plt.show()"
      ],
      "execution_count": 14,
      "outputs": [
        {
          "output_type": "display_data",
          "data": {
            "image/png": "[encoded data removed]",
            "text/plain": [
              "<Figure size 432x288 with 1 Axes>"
            ]
          },
          "metadata": {
            "tags": [],
            "needs_background": "light"
          }
        }
      ]
    },
    {
      "cell_type": "code",
      "metadata": {
        "id": "r0RlRzrnIJxy",
        "colab_type": "code",
        "colab": {
          "base_uri": "https://localhost:8080/",
          "height": 276
        },
        "outputId": "135d7dff-99e2-4fde-8bf3-e22b6f686c80"
      },
      "source": [
        "x = car['HP']\n",
        "\n",
        "plt.scatter(x, y)\n",
        "plt.show()"
      ],
      "execution_count": 15,
      "outputs": [
        {
          "output_type": "display_data",
          "data": {
            "image/png": "[encoded data removed]",
            "text/plain": [
              "<Figure size 432x288 with 1 Axes>"
            ]
          },
          "metadata": {
            "tags": [],
            "needs_background": "light"
          }
        }
      ]
    },
    {
      "cell_type": "code",
      "metadata": {
        "id": "ZnxJCLKxvMbU",
        "colab_type": "code",
        "colab": {
          "base_uri": "https://localhost:8080/",
          "height": 276
        },
        "outputId": "ffc64f0e-eb7f-4611-a97d-ab6788d698c6"
      },
      "source": [
        "x = car['Model']\n",
        "\n",
        "plt.scatter(x, y)\n",
        "plt.show()"
      ],
      "execution_count": 16,
      "outputs": [
        {
          "output_type": "display_data",
          "data": {
            "image/png": "[encoded data removed]",
            "text/plain": [
              "<Figure size 432x288 with 1 Axes>"
            ]
          },
          "metadata": {
            "tags": [],
            "needs_background": "light"
          }
        }
      ]
    },
    {
      "cell_type": "code",
      "metadata": {
        "id": "PyoO4pifvMXG",
        "colab_type": "code",
        "colab": {
          "base_uri": "https://localhost:8080/",
          "height": 276
        },
        "outputId": "64301fb2-574f-4e59-e7ce-9507cc9c8daf"
      },
      "source": [
        "x = car['Year']\n",
        "\n",
        "plt.scatter(x, y)\n",
        "plt.show()"
      ],
      "execution_count": 17,
      "outputs": [
        {
          "output_type": "display_data",
          "data": {
            "image/png": "[encoded data removed]",
            "text/plain": [
              "<Figure size 432x288 with 1 Axes>"
            ]
          },
          "metadata": {
            "tags": [],
            "needs_background": "light"
          }
        }
      ]
    },
    {
      "cell_type": "code",
      "metadata": {
        "id": "D5uKXY0RvMOd",
        "colab_type": "code",
        "colab": {
          "base_uri": "https://localhost:8080/",
          "height": 276
        },
        "outputId": "85c69adf-1078-4f71-b344-939c10019541"
      },
      "source": [
        "x = car['Engine Fuel Type']\n",
        "\n",
        "plt.scatter(x, y)\n",
        "plt.show()"
      ],
      "execution_count": 18,
      "outputs": [
        {
          "output_type": "display_data",
          "data": {
            "image/png": "[encoded data removed]",
            "text/plain": [
              "<Figure size 432x288 with 1 Axes>"
            ]
          },
          "metadata": {
            "tags": [],
            "needs_background": "light"
          }
        }
      ]
    },
    {
      "cell_type": "code",
      "metadata": {
        "id": "sxnkWc1WvMK5",
        "colab_type": "code",
        "colab": {
          "base_uri": "https://localhost:8080/",
          "height": 276
        },
        "outputId": "87937738-8003-4e98-c660-3a3c1f64d194"
      },
      "source": [
        "x = car['Cylinders']\n",
        "\n",
        "plt.scatter(x, y)\n",
        "plt.show()"
      ],
      "execution_count": 19,
      "outputs": [
        {
          "output_type": "display_data",
          "data": {
            "image/png": "[encoded data removed]",
            "text/plain": [
              "<Figure size 432x288 with 1 Axes>"
            ]
          },
          "metadata": {
            "tags": [],
            "needs_background": "light"
          }
        }
      ]
    },
    {
      "cell_type": "code",
      "metadata": {
        "id": "ZmIpT1OrvMGD",
        "colab_type": "code",
        "colab": {
          "base_uri": "https://localhost:8080/",
          "height": 276
        },
        "outputId": "fbe402a9-8453-4f19-bf68-85483eeda917"
      },
      "source": [
        "x = car['Transmission']\n",
        "\n",
        "plt.scatter(x, y)\n",
        "plt.show()"
      ],
      "execution_count": 20,
      "outputs": [
        {
          "output_type": "display_data",
          "data": {
            "image/png": "[encoded data removed]",
            "text/plain": [
              "<Figure size 432x288 with 1 Axes>"
            ]
          },
          "metadata": {
            "tags": [],
            "needs_background": "light"
          }
        }
      ]
    },
    {
      "cell_type": "code",
      "metadata": {
        "id": "LDMz9JMBvMCW",
        "colab_type": "code",
        "colab": {
          "base_uri": "https://localhost:8080/",
          "height": 276
        },
        "outputId": "b1200960-4b21-4a70-af9f-3788e875479b"
      },
      "source": [
        "x = car['Drive Mode']\n",
        "\n",
        "plt.scatter(x, y)\n",
        "plt.show()"
      ],
      "execution_count": 21,
      "outputs": [
        {
          "output_type": "display_data",
          "data": {
            "image/png": "[encoded data removed]",
            "text/plain": [
              "<Figure size 432x288 with 1 Axes>"
            ]
          },
          "metadata": {
            "tags": [],
            "needs_background": "light"
          }
        }
      ]
    },
    {
      "cell_type": "code",
      "metadata": {
        "id": "6ozP9HcrvL-j",
        "colab_type": "code",
        "colab": {
          "base_uri": "https://localhost:8080/",
          "height": 276
        },
        "outputId": "dfdb2129-b97d-4062-a43e-17debc498ea3"
      },
      "source": [
        "x = car['Number of Doors']\n",
        "\n",
        "plt.scatter(x, y)\n",
        "plt.show()"
      ],
      "execution_count": 22,
      "outputs": [
        {
          "output_type": "display_data",
          "data": {
            "image/png": "[encoded data removed]",
            "text/plain": [
              "<Figure size 432x288 with 1 Axes>"
            ]
          },
          "metadata": {
            "tags": [],
            "needs_background": "light"
          }
        }
      ]
    },
    {
      "cell_type": "code",
      "metadata": {
        "id": "ELd7LBpvvL3q",
        "colab_type": "code",
        "colab": {
          "base_uri": "https://localhost:8080/",
          "height": 276
        },
        "outputId": "1ceb2f9e-3cef-4f32-bcd4-36f02723fef4"
      },
      "source": [
        "x = car['Vehicle Size']\n",
        "\n",
        "plt.scatter(x, y)\n",
        "plt.show()"
      ],
      "execution_count": 23,
      "outputs": [
        {
          "output_type": "display_data",
          "data": {
            "image/png": "[encoded data removed]",
            "text/plain": [
              "<Figure size 432x288 with 1 Axes>"
            ]
          },
          "metadata": {
            "tags": [],
            "needs_background": "light"
          }
        }
      ]
    },
    {
      "cell_type": "code",
      "metadata": {
        "id": "caDL-14uvL0j",
        "colab_type": "code",
        "colab": {
          "base_uri": "https://localhost:8080/",
          "height": 276
        },
        "outputId": "38f47476-1b17-4cb2-9d68-f56303a9b87f"
      },
      "source": [
        "x = car['Vehicle Style']\n",
        "\n",
        "plt.scatter(x, y)\n",
        "plt.show()"
      ],
      "execution_count": 24,
      "outputs": [
        {
          "output_type": "display_data",
          "data": {
            "image/png": "[encoded data removed]",
            "text/plain": [
              "<Figure size 432x288 with 1 Axes>"
            ]
          },
          "metadata": {
            "tags": [],
            "needs_background": "light"
          }
        }
      ]
    },
    {
      "cell_type": "code",
      "metadata": {
        "id": "RseUcdzzvLxT",
        "colab_type": "code",
        "colab": {
          "base_uri": "https://localhost:8080/",
          "height": 276
        },
        "outputId": "37788242-851f-4e82-94d6-badfe399e25e"
      },
      "source": [
        "x = car['MPG-H']\n",
        "\n",
        "plt.scatter(x, y)\n",
        "plt.show()"
      ],
      "execution_count": 25,
      "outputs": [
        {
          "output_type": "display_data",
          "data": {
            "image/png": "[encoded data removed]",
            "text/plain": [
              "<Figure size 432x288 with 1 Axes>"
            ]
          },
          "metadata": {
            "tags": [],
            "needs_background": "light"
          }
        }
      ]
    },
    {
      "cell_type": "code",
      "metadata": {
        "id": "C3hm0Xl-vLuJ",
        "colab_type": "code",
        "colab": {
          "base_uri": "https://localhost:8080/",
          "height": 276
        },
        "outputId": "c941a0ab-61cb-4f84-d09c-aba50e67219a"
      },
      "source": [
        "x = car['MPG-C']\n",
        "\n",
        "plt.scatter(x, y)\n",
        "plt.show()"
      ],
      "execution_count": 26,
      "outputs": [
        {
          "output_type": "display_data",
          "data": {
            "image/png": "[encoded data removed]",
            "text/plain": [
              "<Figure size 432x288 with 1 Axes>"
            ]
          },
          "metadata": {
            "tags": [],
            "needs_background": "light"
          }
        }
      ]
    },
    {
      "cell_type": "code",
      "metadata": {
        "id": "6_vDo-XKvLqv",
        "colab_type": "code",
        "colab": {
          "base_uri": "https://localhost:8080/",
          "height": 276
        },
        "outputId": "7c839690-e0ab-4556-9197-745ebd570029"
      },
      "source": [
        "x = car['Popularity']\n",
        "\n",
        "plt.scatter(x, y)\n",
        "plt.show()"
      ],
      "execution_count": 27,
      "outputs": [
        {
          "output_type": "display_data",
          "data": {
            "image/png": "[encoded data removed]",
            "text/plain": [
              "<Figure size 432x288 with 1 Axes>"
            ]
          },
          "metadata": {
            "tags": [],
            "needs_background": "light"
          }
        }
      ]
    },
    {
      "cell_type": "markdown",
      "metadata": {
        "id": "WfKFte1wVGCe",
        "colab_type": "text"
      },
      "source": [
        "**By analysing the graphs, we find that there are about 13 to 15 points that are outliers**"
      ]
    },
    {
      "cell_type": "markdown",
      "metadata": {
        "id": "h6WSCAuAVUX6",
        "colab_type": "text"
      },
      "source": [
        "Now identifying outliers and removing them"
      ]
    },
    {
      "cell_type": "code",
      "metadata": {
        "id": "Ye5BeXneIJrL",
        "colab_type": "code",
        "colab": {
          "base_uri": "https://localhost:8080/",
          "height": 35
        },
        "outputId": "89725334-ce52-47a3-8b57-cb40396b120e"
      },
      "source": [
        "index = car[(car['HP'] >= 800)].index\n",
        "print(index)\n"
      ],
      "execution_count": 28,
      "outputs": [
        {
          "output_type": "stream",
          "text": [
            "Int64Index([11362, 11363, 11364], dtype='int64')\n"
          ],
          "name": "stdout"
        }
      ]
    },
    {
      "cell_type": "code",
      "metadata": {
        "id": "v_GFkpeiW2tb",
        "colab_type": "code",
        "colab": {}
      },
      "source": [
        "car.drop(labels=None, axis=0, index=[11363,11362,11364], columns=None, level=None, inplace=True, errors='raise')"
      ],
      "execution_count": 29,
      "outputs": []
    },
    {
      "cell_type": "code",
      "metadata": {
        "colab_type": "code",
        "id": "A4sLt63jXf3j",
        "colab": {
          "base_uri": "https://localhost:8080/",
          "height": 35
        },
        "outputId": "22569c8f-464a-4c93-c1e1-9f53baf86649"
      },
      "source": [
        "index = car[(car['MPG-C'] >= 120)].index\n",
        "print(index)"
      ],
      "execution_count": 30,
      "outputs": [
        {
          "output_type": "stream",
          "text": [
            "Int64Index([5790, 5791, 5792, 5793, 9867, 9868, 9869, 9870, 9871, 9872], dtype='int64')\n"
          ],
          "name": "stdout"
        }
      ]
    },
    {
      "cell_type": "code",
      "metadata": {
        "id": "clhhPN0_XtgJ",
        "colab_type": "code",
        "colab": {}
      },
      "source": [
        "car.drop(labels=None, axis=0, index=[5790, 5791, 5792, 5793, 9867, 9868, 9869, 9870, 9871, 9872], columns=None, level=None, inplace=True, errors='raise')"
      ],
      "execution_count": 31,
      "outputs": []
    },
    {
      "cell_type": "code",
      "metadata": {
        "id": "JGZlaP6pX0t_",
        "colab_type": "code",
        "colab": {}
      },
      "source": [
        "y = car['Price']"
      ],
      "execution_count": 32,
      "outputs": []
    },
    {
      "cell_type": "markdown",
      "metadata": {
        "id": "OT-ZFkiyVlJo",
        "colab_type": "text"
      },
      "source": [
        "# **6. car brands are the most represented in the dataset and finding the average price among the top car brands**"
      ]
    },
    {
      "cell_type": "code",
      "metadata": {
        "id": "umFAF3_1am6w",
        "colab_type": "code",
        "colab": {
          "base_uri": "https://localhost:8080/",
          "height": 425
        },
        "outputId": "6b2a54a8-043d-4ee6-d87c-94dd3fb29718"
      },
      "source": [
        "carr=car['Make'].value_counts().head(5).to_frame()\n",
        "m= carr.style.background_gradient(cmap='Blues')\n",
        "colors=['blue','red','yellow','green','brown']\n",
        "labels= ['Chevrolet','Ford','Volkswagen','Toyota','Dodge']\n",
        "sizes= ['1123','881','809','746','626']\n",
        "explode=[0.1,0.1,0.1,0.1,0.1]\n",
        "values=car['Make'].value_counts().head(5).to_frame()\n",
        "\n",
        "plt.figure(figsize=(7,7))\n",
        "plt.pie(values,explode=None,labels=labels,colors=colors,autopct='%1.1f%%')\n",
        "plt.title('TOP 5 Car brands in the dataset',color='black',fontsize=10)\n",
        "plt.show()\n"
      ],
      "execution_count": 33,
      "outputs": [
        {
          "output_type": "display_data",
          "data": {
            "image/png": "[encoded data removed]",
            "text/plain": [
              "<Figure size 504x504 with 1 Axes>"
            ]
          },
          "metadata": {
            "tags": []
          }
        }
      ]
    },
    {
      "cell_type": "markdown",
      "metadata": {
        "id": "AZSly4inQWDM",
        "colab_type": "text"
      },
      "source": [
        "Chevrolet, Ford, Volkswagen, Toyota and Dodge are the brands most present in our dataset."
      ]
    },
    {
      "cell_type": "code",
      "metadata": {
        "id": "zMve2uJuaBNH",
        "colab_type": "code",
        "colab": {
          "base_uri": "https://localhost:8080/",
          "height": 142
        },
        "outputId": "6ad483be-713f-4be9-c0b4-e399d96092dc"
      },
      "source": [
        "car1=pd.read_csv('data.csv')\n",
        "car1['Make'].value_counts()[:6]"
      ],
      "execution_count": 34,
      "outputs": [
        {
          "output_type": "execute_result",
          "data": {
            "text/plain": [
              "Chevrolet     1123\n",
              "Ford           881\n",
              "Volkswagen     809\n",
              "Toyota         746\n",
              "Dodge          626\n",
              "Nissan         558\n",
              "Name: Make, dtype: int64"
            ]
          },
          "metadata": {
            "tags": []
          },
          "execution_count": 34
        }
      ]
    },
    {
      "cell_type": "markdown",
      "metadata": {
        "id": "hdK_UEMszRc5",
        "colab_type": "text"
      },
      "source": [
        "The average prices :"
      ]
    },
    {
      "cell_type": "code",
      "metadata": {
        "id": "15E9mU9Mabsu",
        "colab_type": "code",
        "colab": {
          "base_uri": "https://localhost:8080/",
          "height": 913
        },
        "outputId": "de830c4a-4ae2-48cf-d38f-f030c3d2675e"
      },
      "source": [
        "\n",
        "mean_cr = car1['MSRP'].groupby(car1['Make']) \n",
        "\n",
        "print(mean_cr.mean())     "
      ],
      "execution_count": 35,
      "outputs": [
        {
          "output_type": "stream",
          "text": [
            "Make\n",
            "Acura            3.488759e+04\n",
            "Alfa Romeo       6.160000e+04\n",
            "Aston Martin     1.979104e+05\n",
            "Audi             5.345211e+04\n",
            "BMW              6.154676e+04\n",
            "Bentley          2.471693e+05\n",
            "Bugatti          1.757224e+06\n",
            "Buick            2.820661e+04\n",
            "Cadillac         5.623132e+04\n",
            "Chevrolet        2.835039e+04\n",
            "Chrysler         2.672296e+04\n",
            "Dodge            2.239006e+04\n",
            "FIAT             2.267024e+04\n",
            "Ferrari          2.382188e+05\n",
            "Ford             2.739927e+04\n",
            "GMC              3.049330e+04\n",
            "Genesis          4.661667e+04\n",
            "HUMMER           3.646441e+04\n",
            "Honda            2.667434e+04\n",
            "Hyundai          2.459704e+04\n",
            "Infiniti         4.239421e+04\n",
            "Kia              2.531017e+04\n",
            "Lamborghini      3.315673e+05\n",
            "Land Rover       6.782322e+04\n",
            "Lexus            4.754907e+04\n",
            "Lincoln          4.283983e+04\n",
            "Lotus            6.918828e+04\n",
            "Maserati         1.142077e+05\n",
            "Maybach          5.462219e+05\n",
            "Mazda            2.003938e+04\n",
            "McLaren          2.398050e+05\n",
            "Mercedes-Benz    7.147623e+04\n",
            "Mitsubishi       2.124054e+04\n",
            "Nissan           2.858343e+04\n",
            "Oldsmobile       1.154254e+04\n",
            "Plymouth         3.122902e+03\n",
            "Pontiac          1.932155e+04\n",
            "Porsche          1.016224e+05\n",
            "Rolls-Royce      3.511306e+05\n",
            "Saab             2.741350e+04\n",
            "Scion            1.993250e+04\n",
            "Spyker           2.133233e+05\n",
            "Subaru           2.482750e+04\n",
            "Suzuki           1.790721e+04\n",
            "Tesla            8.525556e+04\n",
            "Toyota           2.903002e+04\n",
            "Volkswagen       2.810238e+04\n",
            "Volvo            2.854116e+04\n",
            "Name: MSRP, dtype: float64\n"
          ],
          "name": "stdout"
        }
      ]
    },
    {
      "cell_type": "markdown",
      "metadata": {
        "id": "fs_AeA26zqPk",
        "colab_type": "text"
      },
      "source": [
        "# **7. The correlation matrix and insights**"
      ]
    },
    {
      "cell_type": "code",
      "metadata": {
        "id": "QOvs9aORgPB1",
        "colab_type": "code",
        "colab": {
          "base_uri": "https://localhost:8080/",
          "height": 588
        },
        "outputId": "6631b6b3-5120-439f-f80d-ba94d6eca1b5"
      },
      "source": [
        "car.corr()"
      ],
      "execution_count": 36,
      "outputs": [
        {
          "output_type": "execute_result",
          "data": {
            "text/html": [
              "<div>\n",
              "<style scoped>\n",
              "    .dataframe tbody tr th:only-of-type {\n",
              "        vertical-align: middle;\n",
              "    }\n",
              "\n",
              "    .dataframe tbody tr th {\n",
              "        vertical-align: top;\n",
              "    }\n",
              "\n",
              "    .dataframe thead th {\n",
              "        text-align: right;\n",
              "    }\n",
              "</style>\n",
              "<table border=\"1\" class=\"dataframe\">\n",
              "  <thead>\n",
              "    <tr style=\"text-align: right;\">\n",
              "      <th></th>\n",
              "      <th>Make</th>\n",
              "      <th>Model</th>\n",
              "      <th>Year</th>\n",
              "      <th>Engine Fuel Type</th>\n",
              "      <th>HP</th>\n",
              "      <th>Cylinders</th>\n",
              "      <th>Transmission</th>\n",
              "      <th>Drive Mode</th>\n",
              "      <th>Number of Doors</th>\n",
              "      <th>Vehicle Size</th>\n",
              "      <th>Vehicle Style</th>\n",
              "      <th>MPG-H</th>\n",
              "      <th>MPG-C</th>\n",
              "      <th>Popularity</th>\n",
              "      <th>Price</th>\n",
              "    </tr>\n",
              "  </thead>\n",
              "  <tbody>\n",
              "    <tr>\n",
              "      <th>Make</th>\n",
              "      <td>1.000000</td>\n",
              "      <td>0.034545</td>\n",
              "      <td>-0.017078</td>\n",
              "      <td>0.126892</td>\n",
              "      <td>-0.226404</td>\n",
              "      <td>-0.265650</td>\n",
              "      <td>0.044212</td>\n",
              "      <td>-0.036289</td>\n",
              "      <td>0.055963</td>\n",
              "      <td>-0.105155</td>\n",
              "      <td>-0.061020</td>\n",
              "      <td>0.146869</td>\n",
              "      <td>0.213763</td>\n",
              "      <td>-0.300520</td>\n",
              "      <td>-0.112780</td>\n",
              "    </tr>\n",
              "    <tr>\n",
              "      <th>Model</th>\n",
              "      <td>0.034545</td>\n",
              "      <td>1.000000</td>\n",
              "      <td>0.030669</td>\n",
              "      <td>0.016320</td>\n",
              "      <td>0.002038</td>\n",
              "      <td>0.074253</td>\n",
              "      <td>-0.077897</td>\n",
              "      <td>-0.074956</td>\n",
              "      <td>0.137651</td>\n",
              "      <td>0.023728</td>\n",
              "      <td>-0.092115</td>\n",
              "      <td>-0.159069</td>\n",
              "      <td>-0.102440</td>\n",
              "      <td>-0.072610</td>\n",
              "      <td>-0.045250</td>\n",
              "    </tr>\n",
              "    <tr>\n",
              "      <th>Year</th>\n",
              "      <td>-0.017078</td>\n",
              "      <td>0.030669</td>\n",
              "      <td>1.000000</td>\n",
              "      <td>-0.264947</td>\n",
              "      <td>0.356177</td>\n",
              "      <td>-0.032501</td>\n",
              "      <td>-0.364420</td>\n",
              "      <td>-0.184318</td>\n",
              "      <td>0.262149</td>\n",
              "      <td>0.105108</td>\n",
              "      <td>-0.067346</td>\n",
              "      <td>0.289534</td>\n",
              "      <td>0.256614</td>\n",
              "      <td>0.073185</td>\n",
              "      <td>0.258052</td>\n",
              "    </tr>\n",
              "    <tr>\n",
              "      <th>Engine Fuel Type</th>\n",
              "      <td>0.126892</td>\n",
              "      <td>0.016320</td>\n",
              "      <td>-0.264947</td>\n",
              "      <td>1.000000</td>\n",
              "      <td>-0.231738</td>\n",
              "      <td>-0.134865</td>\n",
              "      <td>0.141825</td>\n",
              "      <td>0.028965</td>\n",
              "      <td>0.016675</td>\n",
              "      <td>-0.067037</td>\n",
              "      <td>-0.049534</td>\n",
              "      <td>-0.014570</td>\n",
              "      <td>0.043130</td>\n",
              "      <td>-0.045714</td>\n",
              "      <td>-0.150527</td>\n",
              "    </tr>\n",
              "    <tr>\n",
              "      <th>HP</th>\n",
              "      <td>-0.226404</td>\n",
              "      <td>0.002038</td>\n",
              "      <td>0.356177</td>\n",
              "      <td>-0.231738</td>\n",
              "      <td>1.000000</td>\n",
              "      <td>0.778938</td>\n",
              "      <td>-0.236548</td>\n",
              "      <td>-0.030854</td>\n",
              "      <td>-0.099306</td>\n",
              "      <td>0.210455</td>\n",
              "      <td>0.012182</td>\n",
              "      <td>-0.428920</td>\n",
              "      <td>-0.522513</td>\n",
              "      <td>0.038018</td>\n",
              "      <td>0.692842</td>\n",
              "    </tr>\n",
              "    <tr>\n",
              "      <th>Cylinders</th>\n",
              "      <td>-0.265650</td>\n",
              "      <td>0.074253</td>\n",
              "      <td>-0.032501</td>\n",
              "      <td>-0.134865</td>\n",
              "      <td>0.778938</td>\n",
              "      <td>1.000000</td>\n",
              "      <td>-0.158848</td>\n",
              "      <td>0.093043</td>\n",
              "      <td>-0.134698</td>\n",
              "      <td>0.194471</td>\n",
              "      <td>0.030516</td>\n",
              "      <td>-0.626797</td>\n",
              "      <td>-0.684944</td>\n",
              "      <td>0.047855</td>\n",
              "      <td>0.568569</td>\n",
              "    </tr>\n",
              "    <tr>\n",
              "      <th>Transmission</th>\n",
              "      <td>0.044212</td>\n",
              "      <td>-0.077897</td>\n",
              "      <td>-0.364420</td>\n",
              "      <td>0.141825</td>\n",
              "      <td>-0.236548</td>\n",
              "      <td>-0.158848</td>\n",
              "      <td>1.000000</td>\n",
              "      <td>0.171539</td>\n",
              "      <td>-0.339028</td>\n",
              "      <td>-0.303722</td>\n",
              "      <td>-0.033365</td>\n",
              "      <td>0.022941</td>\n",
              "      <td>0.025471</td>\n",
              "      <td>0.011223</td>\n",
              "      <td>-0.192125</td>\n",
              "    </tr>\n",
              "    <tr>\n",
              "      <th>Drive Mode</th>\n",
              "      <td>-0.036289</td>\n",
              "      <td>-0.074956</td>\n",
              "      <td>-0.184318</td>\n",
              "      <td>0.028965</td>\n",
              "      <td>-0.030854</td>\n",
              "      <td>0.093043</td>\n",
              "      <td>0.171539</td>\n",
              "      <td>1.000000</td>\n",
              "      <td>-0.257026</td>\n",
              "      <td>-0.130589</td>\n",
              "      <td>0.103185</td>\n",
              "      <td>-0.009087</td>\n",
              "      <td>-0.031437</td>\n",
              "      <td>0.027964</td>\n",
              "      <td>-0.026988</td>\n",
              "    </tr>\n",
              "    <tr>\n",
              "      <th>Number of Doors</th>\n",
              "      <td>0.055963</td>\n",
              "      <td>0.137651</td>\n",
              "      <td>0.262149</td>\n",
              "      <td>0.016675</td>\n",
              "      <td>-0.099306</td>\n",
              "      <td>-0.134698</td>\n",
              "      <td>-0.339028</td>\n",
              "      <td>-0.257026</td>\n",
              "      <td>1.000000</td>\n",
              "      <td>0.270153</td>\n",
              "      <td>0.204084</td>\n",
              "      <td>0.120855</td>\n",
              "      <td>0.146121</td>\n",
              "      <td>-0.050442</td>\n",
              "      <td>-0.130014</td>\n",
              "    </tr>\n",
              "    <tr>\n",
              "      <th>Vehicle Size</th>\n",
              "      <td>-0.105155</td>\n",
              "      <td>0.023728</td>\n",
              "      <td>0.105108</td>\n",
              "      <td>-0.067037</td>\n",
              "      <td>0.210455</td>\n",
              "      <td>0.194471</td>\n",
              "      <td>-0.303722</td>\n",
              "      <td>-0.130589</td>\n",
              "      <td>0.270153</td>\n",
              "      <td>1.000000</td>\n",
              "      <td>0.162653</td>\n",
              "      <td>-0.102408</td>\n",
              "      <td>-0.161566</td>\n",
              "      <td>-0.004234</td>\n",
              "      <td>0.050051</td>\n",
              "    </tr>\n",
              "    <tr>\n",
              "      <th>Vehicle Style</th>\n",
              "      <td>-0.061020</td>\n",
              "      <td>-0.092115</td>\n",
              "      <td>-0.067346</td>\n",
              "      <td>-0.049534</td>\n",
              "      <td>0.012182</td>\n",
              "      <td>0.030516</td>\n",
              "      <td>-0.033365</td>\n",
              "      <td>0.103185</td>\n",
              "      <td>0.204084</td>\n",
              "      <td>0.162653</td>\n",
              "      <td>1.000000</td>\n",
              "      <td>0.059238</td>\n",
              "      <td>-0.020109</td>\n",
              "      <td>0.039551</td>\n",
              "      <td>-0.013002</td>\n",
              "    </tr>\n",
              "    <tr>\n",
              "      <th>MPG-H</th>\n",
              "      <td>0.146869</td>\n",
              "      <td>-0.159069</td>\n",
              "      <td>0.289534</td>\n",
              "      <td>-0.014570</td>\n",
              "      <td>-0.428920</td>\n",
              "      <td>-0.626797</td>\n",
              "      <td>0.022941</td>\n",
              "      <td>-0.009087</td>\n",
              "      <td>0.120855</td>\n",
              "      <td>-0.102408</td>\n",
              "      <td>0.059238</td>\n",
              "      <td>1.000000</td>\n",
              "      <td>0.835449</td>\n",
              "      <td>-0.037059</td>\n",
              "      <td>-0.221085</td>\n",
              "    </tr>\n",
              "    <tr>\n",
              "      <th>MPG-C</th>\n",
              "      <td>0.213763</td>\n",
              "      <td>-0.102440</td>\n",
              "      <td>0.256614</td>\n",
              "      <td>0.043130</td>\n",
              "      <td>-0.522513</td>\n",
              "      <td>-0.684944</td>\n",
              "      <td>0.025471</td>\n",
              "      <td>-0.031437</td>\n",
              "      <td>0.146121</td>\n",
              "      <td>-0.161566</td>\n",
              "      <td>-0.020109</td>\n",
              "      <td>0.835449</td>\n",
              "      <td>1.000000</td>\n",
              "      <td>-0.022929</td>\n",
              "      <td>-0.273781</td>\n",
              "    </tr>\n",
              "    <tr>\n",
              "      <th>Popularity</th>\n",
              "      <td>-0.300520</td>\n",
              "      <td>-0.072610</td>\n",
              "      <td>0.073185</td>\n",
              "      <td>-0.045714</td>\n",
              "      <td>0.038018</td>\n",
              "      <td>0.047855</td>\n",
              "      <td>0.011223</td>\n",
              "      <td>0.027964</td>\n",
              "      <td>-0.050442</td>\n",
              "      <td>-0.004234</td>\n",
              "      <td>0.039551</td>\n",
              "      <td>-0.037059</td>\n",
              "      <td>-0.022929</td>\n",
              "      <td>1.000000</td>\n",
              "      <td>-0.050605</td>\n",
              "    </tr>\n",
              "    <tr>\n",
              "      <th>Price</th>\n",
              "      <td>-0.112780</td>\n",
              "      <td>-0.045250</td>\n",
              "      <td>0.258052</td>\n",
              "      <td>-0.150527</td>\n",
              "      <td>0.692842</td>\n",
              "      <td>0.568569</td>\n",
              "      <td>-0.192125</td>\n",
              "      <td>-0.026988</td>\n",
              "      <td>-0.130014</td>\n",
              "      <td>0.050051</td>\n",
              "      <td>-0.013002</td>\n",
              "      <td>-0.221085</td>\n",
              "      <td>-0.273781</td>\n",
              "      <td>-0.050605</td>\n",
              "      <td>1.000000</td>\n",
              "    </tr>\n",
              "  </tbody>\n",
              "</table>\n",
              "</div>"
            ],
            "text/plain": [
              "                      Make     Model      Year  ...     MPG-C  Popularity     Price\n",
              "Make              1.000000  0.034545 -0.017078  ...  0.213763   -0.300520 -0.112780\n",
              "Model             0.034545  1.000000  0.030669  ... -0.102440   -0.072610 -0.045250\n",
              "Year             -0.017078  0.030669  1.000000  ...  0.256614    0.073185  0.258052\n",
              "Engine Fuel Type  0.126892  0.016320 -0.264947  ...  0.043130   -0.045714 -0.150527\n",
              "HP               -0.226404  0.002038  0.356177  ... -0.522513    0.038018  0.692842\n",
              "Cylinders        -0.265650  0.074253 -0.032501  ... -0.684944    0.047855  0.568569\n",
              "Transmission      0.044212 -0.077897 -0.364420  ...  0.025471    0.011223 -0.192125\n",
              "Drive Mode       -0.036289 -0.074956 -0.184318  ... -0.031437    0.027964 -0.026988\n",
              "Number of Doors   0.055963  0.137651  0.262149  ...  0.146121   -0.050442 -0.130014\n",
              "Vehicle Size     -0.105155  0.023728  0.105108  ... -0.161566   -0.004234  0.050051\n",
              "Vehicle Style    -0.061020 -0.092115 -0.067346  ... -0.020109    0.039551 -0.013002\n",
              "MPG-H             0.146869 -0.159069  0.289534  ...  0.835449   -0.037059 -0.221085\n",
              "MPG-C             0.213763 -0.102440  0.256614  ...  1.000000   -0.022929 -0.273781\n",
              "Popularity       -0.300520 -0.072610  0.073185  ... -0.022929    1.000000 -0.050605\n",
              "Price            -0.112780 -0.045250  0.258052  ... -0.273781   -0.050605  1.000000\n",
              "\n",
              "[15 rows x 15 columns]"
            ]
          },
          "metadata": {
            "tags": []
          },
          "execution_count": 36
        }
      ]
    },
    {
      "cell_type": "markdown",
      "metadata": {
        "id": "-Svcq9zQzyDv",
        "colab_type": "text"
      },
      "source": [
        "Heatmap for correlation matrix"
      ]
    },
    {
      "cell_type": "code",
      "metadata": {
        "id": "yQKScQmzhPzS",
        "colab_type": "code",
        "colab": {
          "base_uri": "https://localhost:8080/",
          "height": 965
        },
        "outputId": "ae0e57e5-69cb-403e-fabd-09c3f4408184"
      },
      "source": [
        "corr = car.corr()\n",
        "plt.figure(figsize=(17, 17))\n",
        "ax = sns.heatmap(corr, vmin=-1, vmax=1, center=0,cmap=sns.diverging_palette(40, 220, n=200),square=True,annot=True)\n",
        "ax.set_xticklabels(\n",
        "    ax.get_xticklabels(),\n",
        "    rotation=45,\n",
        "    horizontalalignment='right'\n",
        ");"
      ],
      "execution_count": 37,
      "outputs": [
        {
          "output_type": "display_data",
          "data": {
            "image/png": "[encoded data removed]",
            "text/plain": [
              "<Figure size 1224x1224 with 2 Axes>"
            ]
          },
          "metadata": {
            "tags": [],
            "needs_background": "light"
          }
        }
      ]
    },
    {
      "cell_type": "markdown",
      "metadata": {
        "id": "r_5ks-HViGEM",
        "colab_type": "text"
      },
      "source": [
        "### **Insights on correlation matrix and its heatmap**\n"
      ]
    },
    {
      "cell_type": "markdown",
      "metadata": {
        "id": "ViW8N_UNiAR8",
        "colab_type": "text"
      },
      "source": [
        "Each square shows the correlation between the variables on each axis. Correlation ranges from -1 to +1. Values closer to zero means there is no linear trend between the two variables. The close to 1 the correlation is the more positively correlated they are; that is as one increases so does the other and the closer to 1 the stronger this relationship is. A correlation closer to -1 is similar, but instead of both increasing one variable will decrease as the other increases. The diagonals are all 1/dark green because those squares are correlating each variable to itself (so it's a perfect correlation). For the rest the larger the number and darker the color the higher the correlation between the two variables. The plot is also symmetrical about the diagonal since the same two variables are being paired together in those squares.\n",
        "\n",
        "\n",
        "Simply put it gives extreme colors to extreme values so they are easily visible to the naked eye."
      ]
    },
    {
      "cell_type": "markdown",
      "metadata": {
        "id": "NJlYH8TJR7JV",
        "colab_type": "text"
      },
      "source": [
        "### **So we can say there is a positive correlation between:**\n",
        "\n",
        "Engine HP and Engine Cylinders\n",
        "Engine HP and the manufacturer's suggested retail price (MSRP)\n",
        "Engine Cylinders and the manufacturer's suggested retail price (MSRP) "
      ]
    },
    {
      "cell_type": "markdown",
      "metadata": {
        "id": "8zSDrSlq0A7Y",
        "colab_type": "text"
      },
      "source": [
        "# **8. EDA and plots of different graphs and findings**"
      ]
    },
    {
      "cell_type": "markdown",
      "metadata": {
        "id": "eFEzH4ezfhrg",
        "colab_type": "text"
      },
      "source": [
        "* Let's plot the graphs to have a better understading of these correlations."
      ]
    },
    {
      "cell_type": "code",
      "metadata": {
        "trusted": true,
        "_kg_hide-input": true,
        "id": "vC3SB46ffhrg",
        "colab_type": "code",
        "colab": {
          "base_uri": "https://localhost:8080/",
          "height": 358
        },
        "outputId": "121df97e-1e6b-4c9a-8be4-bcd58d95c921"
      },
      "source": [
        "plt.figure(figsize=(15,5))\n",
        "\n",
        "ax1 = plt.subplot2grid((1,2),(0,0))\n",
        "plt.scatter(x=car['Cylinders'], y=car['HP'], color='maroon', alpha=0.7)\n",
        "plt.title('Cylinders on HP', weight='bold', fontsize=18)\n",
        "plt.xlabel('Cylinders', weight='bold',fontsize=14)\n",
        "plt.ylabel('HP', weight='bold', fontsize=14)\n",
        "plt.xticks(weight='bold')\n",
        "plt.yticks(weight='bold')\n",
        "\n",
        "\n",
        "\n",
        "ax1 = plt.subplot2grid((1,2), (0, 1))\n",
        "sns.regplot(x=car['HP'], y=car['Price'], color='maroon')\n",
        "plt.title('HP on Price', weight='bold', fontsize=18)\n",
        "plt.xlabel('Price', weight='bold',fontsize=14)\n",
        "plt.ylabel('HP', weight='bold', fontsize=14)\n",
        "plt.xticks(weight='bold')\n",
        "plt.yticks(weight='bold')\n",
        "\n",
        "plt.show()"
      ],
      "execution_count": 41,
      "outputs": [
        {
          "output_type": "display_data",
          "data": {
            "image/png": "[encoded data removed]",
            "text/plain": [
              "<Figure size 1080x360 with 2 Axes>"
            ]
          },
          "metadata": {
            "tags": [],
            "needs_background": "light"
          }
        }
      ]
    },
    {
      "cell_type": "markdown",
      "metadata": {
        "id": "SNLpqt6Gfhrj",
        "colab_type": "text"
      },
      "source": [
        "  An engine with more cylinders produces more power, and more power means a high Price."
      ]
    },
    {
      "cell_type": "markdown",
      "metadata": {
        "id": "mjhhcBeIfhrj",
        "colab_type": "text"
      },
      "source": [
        "                  3.- Shouldn't cars with a high engine power produce more power and thus have a high highway and city mpg?\n",
        "                  \n",
        "         "
      ]
    },
    {
      "cell_type": "code",
      "metadata": {
        "_kg_hide-input": false,
        "trusted": true,
        "id": "B3M5cX-Bfhrk",
        "colab_type": "code",
        "colab": {
          "base_uri": "https://localhost:8080/",
          "height": 394
        },
        "outputId": "d34995d4-a704-45f9-dbc5-63717f904acd"
      },
      "source": [
        "plt.figure(figsize=(15,5))\n",
        "\n",
        "ax1 = plt.subplot2grid((1,2),(0,0))\n",
        "sns.regplot(x=car[\"HP\"], y=car[\"MPG-H\"], line_kws={\"color\":\"red\",\"alpha\":1,\"lw\":5})\n",
        "plt.title('MPG-H and HP', weight='bold', fontsize=18)\n",
        "plt.xlabel('HP', weight='bold',fontsize=14)\n",
        "plt.ylabel('MPG-H', weight='bold', fontsize=14)\n",
        "plt.xticks(weight='bold')\n",
        "plt.yticks(weight='bold')\n",
        "\n",
        "\n",
        "ax1 = plt.subplot2grid((1,2), (0, 1))\n",
        "sns.regplot(x=car[\"Price\"], y=car[\"MPG-H\"], line_kws={\"color\":\"red\",\"alpha\":1,\"lw\":5})\n",
        "plt.title('MPG-H and Price', weight='bold', fontsize=18)\n",
        "plt.xlabel('Price', weight='bold',fontsize=14)\n",
        "plt.ylabel('MPG-H', weight='bold', fontsize=14)\n",
        "plt.xticks(weight='bold')\n",
        "plt.yticks(weight='bold')"
      ],
      "execution_count": 42,
      "outputs": [
        {
          "output_type": "execute_result",
          "data": {
            "text/plain": [
              "(array([-50.,   0.,  50., 100., 150., 200., 250., 300., 350., 400.]),\n",
              " <a list of 10 Text major ticklabel objects>)"
            ]
          },
          "metadata": {
            "tags": []
          },
          "execution_count": 42
        },
        {
          "output_type": "display_data",
          "data": {
            "image/png": "[encoded data removed]",
            "text/plain": [
              "<Figure size 1080x360 with 2 Axes>"
            ]
          },
          "metadata": {
            "tags": [],
            "needs_background": "light"
          }
        }
      ]
    },
    {
      "cell_type": "markdown",
      "metadata": {
        "id": "ZytnkgdAfhrl",
        "colab_type": "text"
      },
      "source": [
        "  - Shouldn't cars with a high engine power produce more power and thus have a high highway and city mpg?\n",
        "  \n",
        "From both the heatmap and the plots above, we can see a negative correlation between highway and city mpg ( how far the car is able to travel for every gallon of fuel it uses in the highway and around the city) and the Engine HP. \n",
        "\n",
        "\n",
        "Horsepower is a measure of **work** that can be performed over a given **time** by an engine. The more power you have the higher the speed you can do it at during **a period of time**. Generally, **higher horsepower** comes from burning more fuel, so get **lower mpg**, more horsepower means less fuel economy.\n",
        "\n",
        " "
      ]
    },
    {
      "cell_type": "markdown",
      "metadata": {
        "id": "lSxi_0gZfhrm",
        "colab_type": "text"
      },
      "source": [
        "* How are other features correlated to the manufacturer's suggested Price?"
      ]
    },
    {
      "cell_type": "code",
      "metadata": {
        "id": "DOZt-8cN48UO",
        "colab_type": "code",
        "colab": {
          "base_uri": "https://localhost:8080/",
          "height": 304
        },
        "outputId": "d0515075-d1ca-44e3-896f-64420830a1b0"
      },
      "source": [
        "car.dtypes"
      ],
      "execution_count": 43,
      "outputs": [
        {
          "output_type": "execute_result",
          "data": {
            "text/plain": [
              "Make                  int64\n",
              "Model                 int64\n",
              "Year                  int64\n",
              "Engine Fuel Type      int64\n",
              "HP                  float64\n",
              "Cylinders           float64\n",
              "Transmission          int64\n",
              "Drive Mode            int64\n",
              "Number of Doors     float64\n",
              "Vehicle Size          int64\n",
              "Vehicle Style         int64\n",
              "MPG-H                 int64\n",
              "MPG-C                 int64\n",
              "Popularity            int64\n",
              "Price                 int64\n",
              "dtype: object"
            ]
          },
          "metadata": {
            "tags": []
          },
          "execution_count": 43
        }
      ]
    },
    {
      "cell_type": "code",
      "metadata": {
        "trusted": true,
        "_kg_hide-input": true,
        "id": "LYjdt-w9fhrm",
        "colab_type": "code",
        "colab": {
          "base_uri": "https://localhost:8080/",
          "height": 624
        },
        "outputId": "8c4bb0e1-e5a1-47bc-fa3f-88a78c495a82"
      },
      "source": [
        "\n",
        "fig= plt.figure(figsize=(16,10))\n",
        "\n",
        "ax1 = plt.subplot2grid((2,2),(0,0))\n",
        "sns.boxplot(x=car['Number of Doors'], y=car['Price'],color='Red')\n",
        "plt.title('Number of Doors', weight='bold', fontsize=14)\n",
        "\n",
        "\n",
        "ax1 = plt.subplot2grid((2,2), (0, 1))\n",
        "plt.scatter(x=car['Drive Mode'], y=car['Price'], color='Orange')\n",
        "plt.title('Drive Mode', weight='bold', fontsize=14)\n",
        "\n",
        "\n",
        "\n",
        "ax1 = plt.subplot2grid((2,2), (1, 0))\n",
        "sns.barplot(x=car['Transmission'], y=car['Price'])\n",
        "plt.xticks(rotation=35)\n",
        "plt.title('Transmission', weight='bold', fontsize=14)\n",
        "\n",
        "\n",
        "ax1 = plt.subplot2grid((2,2), (1, 1))\n",
        "sns.barplot(x=car['Vehicle Size'], y=car['Price'])\n",
        "\n",
        "plt.yticks(weight='bold')\n",
        "plt.title('Vehicle Size', weight='bold', fontsize=14)\n",
        "\n",
        "\n",
        "plt.show()"
      ],
      "execution_count": 44,
      "outputs": [
        {
          "output_type": "display_data",
          "data": {
            "image/png": "[encoded data removed]",
            "text/plain": [
              "<Figure size 1152x720 with 4 Axes>"
            ]
          },
          "metadata": {
            "tags": [],
            "needs_background": "light"
          }
        }
      ]
    },
    {
      "cell_type": "markdown",
      "metadata": {
        "id": "5sOcebuifhro",
        "colab_type": "text"
      },
      "source": [
        "What contribute to a High Price :\n",
        "\n",
        "      - Number of doors : Cars with 2 doors \n",
        "      - Drive Mode : All wheel drive      \n",
        "      - Transmission: Automated-Manual (It consists of a conventional manual transmission with an electronically-controlled hydraulic clutch and computerized gear shift control, and the driver can usually override the computer control with a clutchless \"manual\" mode.)        \n",
        "      - Vehicle Size: Large  "
      ]
    },
    {
      "cell_type": "code",
      "metadata": {
        "trusted": true,
        "_kg_hide-input": false,
        "id": "LZAR7LZFfhru",
        "colab_type": "code",
        "colab": {
          "base_uri": "https://localhost:8080/",
          "height": 250
        },
        "outputId": "3164a7c5-a714-4980-cfd9-dadc4fd03bee"
      },
      "source": [
        "EFT=car[['Engine Fuel Type',\n",
        "      'HP',\n",
        "      'Cylinders',\n",
        "      'MPG-H',\n",
        "         'Price',\n",
        "        'MPG-C']].groupby(['Engine Fuel Type']).agg('median').sort_values(by=['HP'],ascending=False)\n",
        "EFT1= EFT.style.background_gradient(cmap='Purples')\n",
        "EFT1\n"
      ],
      "execution_count": 46,
      "outputs": [
        {
          "output_type": "execute_result",
          "data": {
            "text/html": [
              "<style  type=\"text/css\" >\n",
              "    #T_3be7effc_e46a_11ea_8b81_0242ac1c0002row0_col0 {\n",
              "            background-color:  #3f007d;\n",
              "            color:  #f1f1f1;\n",
              "        }    #T_3be7effc_e46a_11ea_8b81_0242ac1c0002row0_col1 {\n",
              "            background-color:  #3f007d;\n",
              "            color:  #f1f1f1;\n",
              "        }    #T_3be7effc_e46a_11ea_8b81_0242ac1c0002row0_col2 {\n",
              "            background-color:  #fcfbfd;\n",
              "            color:  #000000;\n",
              "        }    #T_3be7effc_e46a_11ea_8b81_0242ac1c0002row0_col3 {\n",
              "            background-color:  #3f007d;\n",
              "            color:  #f1f1f1;\n",
              "        }    #T_3be7effc_e46a_11ea_8b81_0242ac1c0002row0_col4 {\n",
              "            background-color:  #fcfbfd;\n",
              "            color:  #000000;\n",
              "        }    #T_3be7effc_e46a_11ea_8b81_0242ac1c0002row1_col0 {\n",
              "            background-color:  #908dc2;\n",
              "            color:  #000000;\n",
              "        }    #T_3be7effc_e46a_11ea_8b81_0242ac1c0002row1_col1 {\n",
              "            background-color:  #6950a3;\n",
              "            color:  #f1f1f1;\n",
              "        }    #T_3be7effc_e46a_11ea_8b81_0242ac1c0002row1_col2 {\n",
              "            background-color:  #f4f2f8;\n",
              "            color:  #000000;\n",
              "        }    #T_3be7effc_e46a_11ea_8b81_0242ac1c0002row1_col3 {\n",
              "            background-color:  #cccce4;\n",
              "            color:  #000000;\n",
              "        }    #T_3be7effc_e46a_11ea_8b81_0242ac1c0002row1_col4 {\n",
              "            background-color:  #f6f5f9;\n",
              "            color:  #000000;\n",
              "        }    #T_3be7effc_e46a_11ea_8b81_0242ac1c0002row2_col0 {\n",
              "            background-color:  #adabd2;\n",
              "            color:  #000000;\n",
              "        }    #T_3be7effc_e46a_11ea_8b81_0242ac1c0002row2_col1 {\n",
              "            background-color:  #6950a3;\n",
              "            color:  #f1f1f1;\n",
              "        }    #T_3be7effc_e46a_11ea_8b81_0242ac1c0002row2_col2 {\n",
              "            background-color:  #f7f6fa;\n",
              "            color:  #000000;\n",
              "        }    #T_3be7effc_e46a_11ea_8b81_0242ac1c0002row2_col3 {\n",
              "            background-color:  #f3f1f7;\n",
              "            color:  #000000;\n",
              "        }    #T_3be7effc_e46a_11ea_8b81_0242ac1c0002row2_col4 {\n",
              "            background-color:  #f6f5f9;\n",
              "            color:  #000000;\n",
              "        }    #T_3be7effc_e46a_11ea_8b81_0242ac1c0002row3_col0 {\n",
              "            background-color:  #c3c4e0;\n",
              "            color:  #000000;\n",
              "        }    #T_3be7effc_e46a_11ea_8b81_0242ac1c0002row3_col1 {\n",
              "            background-color:  #9e9ac8;\n",
              "            color:  #000000;\n",
              "        }    #T_3be7effc_e46a_11ea_8b81_0242ac1c0002row3_col2 {\n",
              "            background-color:  #eae8f2;\n",
              "            color:  #000000;\n",
              "        }    #T_3be7effc_e46a_11ea_8b81_0242ac1c0002row3_col3 {\n",
              "            background-color:  #f1eff6;\n",
              "            color:  #000000;\n",
              "        }    #T_3be7effc_e46a_11ea_8b81_0242ac1c0002row3_col4 {\n",
              "            background-color:  #f1eff6;\n",
              "            color:  #000000;\n",
              "        }    #T_3be7effc_e46a_11ea_8b81_0242ac1c0002row4_col0 {\n",
              "            background-color:  #d4d4e8;\n",
              "            color:  #000000;\n",
              "        }    #T_3be7effc_e46a_11ea_8b81_0242ac1c0002row4_col1 {\n",
              "            background-color:  #9e9ac8;\n",
              "            color:  #000000;\n",
              "        }    #T_3be7effc_e46a_11ea_8b81_0242ac1c0002row4_col2 {\n",
              "            background-color:  #eeecf4;\n",
              "            color:  #000000;\n",
              "        }    #T_3be7effc_e46a_11ea_8b81_0242ac1c0002row4_col3 {\n",
              "            background-color:  #e7e6f1;\n",
              "            color:  #000000;\n",
              "        }    #T_3be7effc_e46a_11ea_8b81_0242ac1c0002row4_col4 {\n",
              "            background-color:  #f5f4f9;\n",
              "            color:  #000000;\n",
              "        }    #T_3be7effc_e46a_11ea_8b81_0242ac1c0002row5_col0 {\n",
              "            background-color:  #e4e3f0;\n",
              "            color:  #000000;\n",
              "        }    #T_3be7effc_e46a_11ea_8b81_0242ac1c0002row5_col1 {\n",
              "            background-color:  #6950a3;\n",
              "            color:  #f1f1f1;\n",
              "        }    #T_3be7effc_e46a_11ea_8b81_0242ac1c0002row5_col2 {\n",
              "            background-color:  #f1eff6;\n",
              "            color:  #000000;\n",
              "        }    #T_3be7effc_e46a_11ea_8b81_0242ac1c0002row5_col3 {\n",
              "            background-color:  #fcfbfd;\n",
              "            color:  #000000;\n",
              "        }    #T_3be7effc_e46a_11ea_8b81_0242ac1c0002row5_col4 {\n",
              "            background-color:  #f3f2f8;\n",
              "            color:  #000000;\n",
              "        }    #T_3be7effc_e46a_11ea_8b81_0242ac1c0002row6_col0 {\n",
              "            background-color:  #e8e7f2;\n",
              "            color:  #000000;\n",
              "        }    #T_3be7effc_e46a_11ea_8b81_0242ac1c0002row6_col1 {\n",
              "            background-color:  #fcfbfd;\n",
              "            color:  #000000;\n",
              "        }    #T_3be7effc_e46a_11ea_8b81_0242ac1c0002row6_col2 {\n",
              "            background-color:  #3f007d;\n",
              "            color:  #f1f1f1;\n",
              "        }    #T_3be7effc_e46a_11ea_8b81_0242ac1c0002row6_col3 {\n",
              "            background-color:  #ebe9f3;\n",
              "            color:  #000000;\n",
              "        }    #T_3be7effc_e46a_11ea_8b81_0242ac1c0002row6_col4 {\n",
              "            background-color:  #3f007d;\n",
              "            color:  #f1f1f1;\n",
              "        }    #T_3be7effc_e46a_11ea_8b81_0242ac1c0002row7_col0 {\n",
              "            background-color:  #f2f0f7;\n",
              "            color:  #000000;\n",
              "        }    #T_3be7effc_e46a_11ea_8b81_0242ac1c0002row7_col1 {\n",
              "            background-color:  #9e9ac8;\n",
              "            color:  #000000;\n",
              "        }    #T_3be7effc_e46a_11ea_8b81_0242ac1c0002row7_col2 {\n",
              "            background-color:  #cacae3;\n",
              "            color:  #000000;\n",
              "        }    #T_3be7effc_e46a_11ea_8b81_0242ac1c0002row7_col3 {\n",
              "            background-color:  #efedf5;\n",
              "            color:  #000000;\n",
              "        }    #T_3be7effc_e46a_11ea_8b81_0242ac1c0002row7_col4 {\n",
              "            background-color:  #e1e0ee;\n",
              "            color:  #000000;\n",
              "        }    #T_3be7effc_e46a_11ea_8b81_0242ac1c0002row8_col0 {\n",
              "            background-color:  #fcfbfd;\n",
              "            color:  #000000;\n",
              "        }    #T_3be7effc_e46a_11ea_8b81_0242ac1c0002row8_col1 {\n",
              "            background-color:  #9e9ac8;\n",
              "            color:  #000000;\n",
              "        }    #T_3be7effc_e46a_11ea_8b81_0242ac1c0002row8_col2 {\n",
              "            background-color:  #cecee5;\n",
              "            color:  #000000;\n",
              "        }    #T_3be7effc_e46a_11ea_8b81_0242ac1c0002row8_col3 {\n",
              "            background-color:  #f8f7fb;\n",
              "            color:  #000000;\n",
              "        }    #T_3be7effc_e46a_11ea_8b81_0242ac1c0002row8_col4 {\n",
              "            background-color:  #e4e3f0;\n",
              "            color:  #000000;\n",
              "        }</style><table id=\"T_3be7effc_e46a_11ea_8b81_0242ac1c0002\" ><thead>    <tr>        <th class=\"blank level0\" ></th>        <th class=\"col_heading level0 col0\" >HP</th>        <th class=\"col_heading level0 col1\" >Cylinders</th>        <th class=\"col_heading level0 col2\" >MPG-H</th>        <th class=\"col_heading level0 col3\" >Price</th>        <th class=\"col_heading level0 col4\" >MPG-C</th>    </tr>    <tr>        <th class=\"index_name level0\" >Engine Fuel Type</th>        <th class=\"blank\" ></th>        <th class=\"blank\" ></th>        <th class=\"blank\" ></th>        <th class=\"blank\" ></th>        <th class=\"blank\" ></th>    </tr></thead><tbody>\n",
              "                <tr>\n",
              "                        <th id=\"T_3be7effc_e46a_11ea_8b81_0242ac1c0002level0_row0\" class=\"row_heading level0 row0\" >3</th>\n",
              "                        <td id=\"T_3be7effc_e46a_11ea_8b81_0242ac1c0002row0_col0\" class=\"data row0 col0\" >510.000000</td>\n",
              "                        <td id=\"T_3be7effc_e46a_11ea_8b81_0242ac1c0002row0_col1\" class=\"data row0 col1\" >8.000000</td>\n",
              "                        <td id=\"T_3be7effc_e46a_11ea_8b81_0242ac1c0002row0_col2\" class=\"data row0 col2\" >19.000000</td>\n",
              "                        <td id=\"T_3be7effc_e46a_11ea_8b81_0242ac1c0002row0_col3\" class=\"data row0 col3\" >142547.500000</td>\n",
              "                        <td id=\"T_3be7effc_e46a_11ea_8b81_0242ac1c0002row0_col4\" class=\"data row0 col4\" >13.000000</td>\n",
              "            </tr>\n",
              "            <tr>\n",
              "                        <th id=\"T_3be7effc_e46a_11ea_8b81_0242ac1c0002level0_row1\" class=\"row_heading level0 row1\" >7</th>\n",
              "                        <td id=\"T_3be7effc_e46a_11ea_8b81_0242ac1c0002row1_col0\" class=\"data row1 col0\" >333.000000</td>\n",
              "                        <td id=\"T_3be7effc_e46a_11ea_8b81_0242ac1c0002row1_col1\" class=\"data row1 col1\" >6.000000</td>\n",
              "                        <td id=\"T_3be7effc_e46a_11ea_8b81_0242ac1c0002row1_col2\" class=\"data row1 col2\" >24.000000</td>\n",
              "                        <td id=\"T_3be7effc_e46a_11ea_8b81_0242ac1c0002row1_col3\" class=\"data row1 col3\" >60625.000000</td>\n",
              "                        <td id=\"T_3be7effc_e46a_11ea_8b81_0242ac1c0002row1_col4\" class=\"data row1 col4\" >17.000000</td>\n",
              "            </tr>\n",
              "            <tr>\n",
              "                        <th id=\"T_3be7effc_e46a_11ea_8b81_0242ac1c0002level0_row2\" class=\"row_heading level0 row2\" >4</th>\n",
              "                        <td id=\"T_3be7effc_e46a_11ea_8b81_0242ac1c0002row2_col0\" class=\"data row2 col0\" >285.000000</td>\n",
              "                        <td id=\"T_3be7effc_e46a_11ea_8b81_0242ac1c0002row2_col1\" class=\"data row2 col1\" >6.000000</td>\n",
              "                        <td id=\"T_3be7effc_e46a_11ea_8b81_0242ac1c0002row2_col2\" class=\"data row2 col2\" >22.000000</td>\n",
              "                        <td id=\"T_3be7effc_e46a_11ea_8b81_0242ac1c0002row2_col3\" class=\"data row2 col3\" >34405.000000</td>\n",
              "                        <td id=\"T_3be7effc_e46a_11ea_8b81_0242ac1c0002row2_col4\" class=\"data row2 col4\" >17.000000</td>\n",
              "            </tr>\n",
              "            <tr>\n",
              "                        <th id=\"T_3be7effc_e46a_11ea_8b81_0242ac1c0002level0_row3\" class=\"row_heading level0 row3\" >6</th>\n",
              "                        <td id=\"T_3be7effc_e46a_11ea_8b81_0242ac1c0002row3_col0\" class=\"data row3 col0\" >248.000000</td>\n",
              "                        <td id=\"T_3be7effc_e46a_11ea_8b81_0242ac1c0002row3_col1\" class=\"data row3 col1\" >4.000000</td>\n",
              "                        <td id=\"T_3be7effc_e46a_11ea_8b81_0242ac1c0002row3_col2\" class=\"data row3 col2\" >29.000000</td>\n",
              "                        <td id=\"T_3be7effc_e46a_11ea_8b81_0242ac1c0002row3_col3\" class=\"data row3 col3\" >36975.000000</td>\n",
              "                        <td id=\"T_3be7effc_e46a_11ea_8b81_0242ac1c0002row3_col4\" class=\"data row3 col4\" >21.000000</td>\n",
              "            </tr>\n",
              "            <tr>\n",
              "                        <th id=\"T_3be7effc_e46a_11ea_8b81_0242ac1c0002level0_row4\" class=\"row_heading level0 row4\" >2</th>\n",
              "                        <td id=\"T_3be7effc_e46a_11ea_8b81_0242ac1c0002row4_col0\" class=\"data row4 col0\" >220.000000</td>\n",
              "                        <td id=\"T_3be7effc_e46a_11ea_8b81_0242ac1c0002row4_col1\" class=\"data row4 col1\" >4.000000</td>\n",
              "                        <td id=\"T_3be7effc_e46a_11ea_8b81_0242ac1c0002row4_col2\" class=\"data row4 col2\" >27.500000</td>\n",
              "                        <td id=\"T_3be7effc_e46a_11ea_8b81_0242ac1c0002row4_col3\" class=\"data row4 col3\" >44080.000000</td>\n",
              "                        <td id=\"T_3be7effc_e46a_11ea_8b81_0242ac1c0002row4_col4\" class=\"data row4 col4\" >18.000000</td>\n",
              "            </tr>\n",
              "            <tr>\n",
              "                        <th id=\"T_3be7effc_e46a_11ea_8b81_0242ac1c0002level0_row5\" class=\"row_heading level0 row5\" >8</th>\n",
              "                        <td id=\"T_3be7effc_e46a_11ea_8b81_0242ac1c0002row5_col0\" class=\"data row5 col0\" >185.000000</td>\n",
              "                        <td id=\"T_3be7effc_e46a_11ea_8b81_0242ac1c0002row5_col1\" class=\"data row5 col1\" >6.000000</td>\n",
              "                        <td id=\"T_3be7effc_e46a_11ea_8b81_0242ac1c0002row5_col2\" class=\"data row5 col2\" >26.000000</td>\n",
              "                        <td id=\"T_3be7effc_e46a_11ea_8b81_0242ac1c0002row5_col3\" class=\"data row5 col3\" >23605.000000</td>\n",
              "                        <td id=\"T_3be7effc_e46a_11ea_8b81_0242ac1c0002row5_col4\" class=\"data row5 col4\" >19.000000</td>\n",
              "            </tr>\n",
              "            <tr>\n",
              "                        <th id=\"T_3be7effc_e46a_11ea_8b81_0242ac1c0002level0_row6\" class=\"row_heading level0 row6\" >1</th>\n",
              "                        <td id=\"T_3be7effc_e46a_11ea_8b81_0242ac1c0002row6_col0\" class=\"data row6 col0\" >177.000000</td>\n",
              "                        <td id=\"T_3be7effc_e46a_11ea_8b81_0242ac1c0002row6_col1\" class=\"data row6 col1\" >0.000000</td>\n",
              "                        <td id=\"T_3be7effc_e46a_11ea_8b81_0242ac1c0002row6_col2\" class=\"data row6 col2\" >82.000000</td>\n",
              "                        <td id=\"T_3be7effc_e46a_11ea_8b81_0242ac1c0002row6_col3\" class=\"data row6 col3\" >41450.000000</td>\n",
              "                        <td id=\"T_3be7effc_e46a_11ea_8b81_0242ac1c0002row6_col4\" class=\"data row6 col4\" >85.000000</td>\n",
              "            </tr>\n",
              "            <tr>\n",
              "                        <th id=\"T_3be7effc_e46a_11ea_8b81_0242ac1c0002level0_row7\" class=\"row_heading level0 row7\" >0</th>\n",
              "                        <td id=\"T_3be7effc_e46a_11ea_8b81_0242ac1c0002row7_col0\" class=\"data row7 col0\" >150.000000</td>\n",
              "                        <td id=\"T_3be7effc_e46a_11ea_8b81_0242ac1c0002row7_col1\" class=\"data row7 col1\" >4.000000</td>\n",
              "                        <td id=\"T_3be7effc_e46a_11ea_8b81_0242ac1c0002row7_col2\" class=\"data row7 col2\" >39.000000</td>\n",
              "                        <td id=\"T_3be7effc_e46a_11ea_8b81_0242ac1c0002row7_col3\" class=\"data row7 col3\" >38590.000000</td>\n",
              "                        <td id=\"T_3be7effc_e46a_11ea_8b81_0242ac1c0002row7_col4\" class=\"data row7 col4\" >28.000000</td>\n",
              "            </tr>\n",
              "            <tr>\n",
              "                        <th id=\"T_3be7effc_e46a_11ea_8b81_0242ac1c0002level0_row8\" class=\"row_heading level0 row8\" >5</th>\n",
              "                        <td id=\"T_3be7effc_e46a_11ea_8b81_0242ac1c0002row8_col0\" class=\"data row8 col0\" >110.000000</td>\n",
              "                        <td id=\"T_3be7effc_e46a_11ea_8b81_0242ac1c0002row8_col1\" class=\"data row8 col1\" >4.000000</td>\n",
              "                        <td id=\"T_3be7effc_e46a_11ea_8b81_0242ac1c0002row8_col2\" class=\"data row8 col2\" >38.000000</td>\n",
              "                        <td id=\"T_3be7effc_e46a_11ea_8b81_0242ac1c0002row8_col3\" class=\"data row8 col3\" >28065.000000</td>\n",
              "                        <td id=\"T_3be7effc_e46a_11ea_8b81_0242ac1c0002row8_col4\" class=\"data row8 col4\" >27.000000</td>\n",
              "            </tr>\n",
              "    </tbody></table>"
            ],
            "text/plain": [
              "<pandas.io.formats.style.Styler at 0x7fcdba3c0198>"
            ]
          },
          "metadata": {
            "tags": []
          },
          "execution_count": 46
        }
      ]
    },
    {
      "cell_type": "markdown",
      "metadata": {
        "id": "U9fEwRmlfhrw",
        "colab_type": "text"
      },
      "source": [
        "Cars with the Engine Fuel Type 'ELECTRIC' have 0 Engine Cylinders since they have an electric motor and don't rely on engine cylinders to  generate power. \n",
        "\n",
        "Moreover, the electric motor is more efficient than internal combustion engines and save a high proportion of the fuel which explains why electric cars have a very high miles per gallon (mpg) value.\n"
      ]
    },
    {
      "cell_type": "markdown",
      "metadata": {
        "id": "feZTF51ifhrw",
        "colab_type": "text"
      },
      "source": [
        "* High numbers of Engine Cylinders produce Higher Engine Horsepower.\n",
        "* High Engine Horsepower means a High Price and a low MPG value ( example: Chevrolet brand/ Corvette model)\n",
        "* Cars with an Electric Engine fuel type ( electric motors instead of engine cylinders tend to be very fuel economy and have a high mpg values \n",
        "* Cars with : 2 doors - all wheel drive - large size - Automated manual transmission size and Convertible Style mark a high MSRP Values.\n",
        "\n"
      ]
    }
  ]
}